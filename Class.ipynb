{
 "cells": [
  {
   "cell_type": "code",
   "execution_count": null,
   "id": "16865d86-ccaa-4236-8c67-96fb2cf8c02c",
   "metadata": {},
   "outputs": [],
   "source": [
    "Why use classes in Python? Classes in python provide a way to structure and organize code into reusable components. They facilitate code reusability, modularity, and maintainability by encapsulating data (attributes) and functionality (methods) within objects."
   ]
  },
  {
   "cell_type": "code",
   "execution_count": null,
   "id": "ad3febf6-22f3-40c3-bffe-fda8312bbeef",
   "metadata": {},
   "outputs": [],
   "source": [
    "1. Class\n",
    "2. Instance\n",
    "3. Mathod for instance\n",
    "4. Class variables\n",
    "5. Methods for class"
   ]
  },
  {
   "cell_type": "code",
   "execution_count": 10,
   "id": "3d94bb7f-dc8d-4ab0-8809-aca86b8e5ce3",
   "metadata": {},
   "outputs": [],
   "source": [
    "class employee:\n",
    "\n",
    "    increment_salary = 1.10\n",
    "    \n",
    "    def __init__(self,first_name,last_name,salary):\n",
    "        self.first_name = first_name\n",
    "        self.last_name = last_name\n",
    "        self.salary = salary\n",
    "        \n",
    "    def full_name(self):\n",
    "        return print(emp_1.first_name+ \" \"+ self.last_name)\n",
    "\n",
    "    def raise_salary(self):\n",
    "        self.salary = self.salary * increment_salary\n",
    "\n"
   ]
  },
  {
   "cell_type": "code",
   "execution_count": 11,
   "id": "0bdd50dc-554c-41b8-a6a1-cc490276f7ad",
   "metadata": {},
   "outputs": [],
   "source": [
    "emp_1 = employee('Jarin', 'Tasnin', 50000)\n",
    "emp_2 = employee('Anika', 'Anik', 60000)"
   ]
  },
  {
   "cell_type": "code",
   "execution_count": 12,
   "id": "1bda5c66-f89b-4119-8a03-6d3210ca6fd9",
   "metadata": {},
   "outputs": [
    {
     "name": "stdout",
     "output_type": "stream",
     "text": [
      "50000\n"
     ]
    }
   ],
   "source": [
    "print(emp_1.salary)"
   ]
  },
  {
   "cell_type": "code",
   "execution_count": 13,
   "id": "bd55bb57-7cf6-4d9c-9d1b-cfb2d3355931",
   "metadata": {},
   "outputs": [
    {
     "name": "stdout",
     "output_type": "stream",
     "text": [
      "Jarin Tasnin\n"
     ]
    }
   ],
   "source": [
    "print(emp_1.first_name+ \" \"+ emp_1.last_name)"
   ]
  },
  {
   "cell_type": "code",
   "execution_count": 21,
   "id": "36b7ef8a-de48-448b-9ced-fd7feef7f2b8",
   "metadata": {},
   "outputs": [
    {
     "ename": "TypeError",
     "evalue": "employee.__init__() missing 3 required positional arguments: 'first_name', 'last_name', and 'salary'",
     "output_type": "error",
     "traceback": [
      "\u001b[1;31m---------------------------------------------------------------------------\u001b[0m",
      "\u001b[1;31mTypeError\u001b[0m                                 Traceback (most recent call last)",
      "Cell \u001b[1;32mIn[21], line 1\u001b[0m\n\u001b[1;32m----> 1\u001b[0m emp_1 \u001b[38;5;241m=\u001b[39m employee()\n\u001b[0;32m      2\u001b[0m emp_2 \u001b[38;5;241m=\u001b[39m employee()\n",
      "\u001b[1;31mTypeError\u001b[0m: employee.__init__() missing 3 required positional arguments: 'first_name', 'last_name', and 'salary'"
     ]
    }
   ],
   "source": [
    "emp_1 = employee()\n",
    "emp_2 = employee()"
   ]
  },
  {
   "cell_type": "code",
   "execution_count": 22,
   "id": "0f6b6281-4cee-4195-8a7c-850976145cab",
   "metadata": {},
   "outputs": [
    {
     "name": "stdout",
     "output_type": "stream",
     "text": [
      "<__main__.employee object at 0x0000018DA28AD820>\n",
      "<__main__.employee object at 0x0000018DA28AC170>\n"
     ]
    }
   ],
   "source": [
    "print(emp_1)\n",
    "print(emp_2)"
   ]
  },
  {
   "cell_type": "code",
   "execution_count": 23,
   "id": "e2de37b9-49f0-4075-884e-2c1bd5d41152",
   "metadata": {},
   "outputs": [],
   "source": [
    "emp_1.first_name = 'Anika'\n",
    "emp_1.last_name = 'Anik'"
   ]
  },
  {
   "cell_type": "code",
   "execution_count": 24,
   "id": "61840003-b548-4821-8064-2f56c221d5c7",
   "metadata": {},
   "outputs": [],
   "source": [
    "emp_1.first_name = 'Jarin'\n",
    "emp_1.last_name = 'Tasnin'"
   ]
  },
  {
   "cell_type": "code",
   "execution_count": 25,
   "id": "ed74d6a3-981e-414d-bb5d-8a982067ac96",
   "metadata": {},
   "outputs": [
    {
     "name": "stdout",
     "output_type": "stream",
     "text": [
      "Jarin\n"
     ]
    }
   ],
   "source": [
    "print(emp_1.first_name)"
   ]
  },
  {
   "cell_type": "code",
   "execution_count": 26,
   "id": "a61fb324-9e29-4945-aac9-d41024efa1bb",
   "metadata": {},
   "outputs": [
    {
     "name": "stdout",
     "output_type": "stream",
     "text": [
      "Anika\n"
     ]
    }
   ],
   "source": [
    "print(emp_2.first_name)"
   ]
  },
  {
   "cell_type": "code",
   "execution_count": null,
   "id": "dcc76883-ce86-48bc-adfa-f09214980419",
   "metadata": {},
   "outputs": [],
   "source": []
  },
  {
   "cell_type": "code",
   "execution_count": null,
   "id": "f02f8383-17ee-4675-ba50-a808cd309c41",
   "metadata": {},
   "outputs": [],
   "source": []
  }
 ],
 "metadata": {
  "kernelspec": {
   "display_name": "Python 3 (ipykernel)",
   "language": "python",
   "name": "python3"
  },
  "language_info": {
   "codemirror_mode": {
    "name": "ipython",
    "version": 3
   },
   "file_extension": ".py",
   "mimetype": "text/x-python",
   "name": "python",
   "nbconvert_exporter": "python",
   "pygments_lexer": "ipython3",
   "version": "3.12.7"
  }
 },
 "nbformat": 4,
 "nbformat_minor": 5
}
