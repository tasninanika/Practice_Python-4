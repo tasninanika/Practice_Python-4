{
 "cells": [
  {
   "cell_type": "markdown",
   "id": "12773752-cbe1-4926-bcd3-c53c643a8c7c",
   "metadata": {},
   "source": [
    "# class - multiple types of data or a structure\n",
    "# sturcture - keyword"
   ]
  },
  {
   "cell_type": "code",
   "execution_count": 14,
   "id": "0b066fb6-7367-4968-a555-b9eea313e154",
   "metadata": {},
   "outputs": [
    {
     "name": "stdout",
     "output_type": "stream",
     "text": [
      "Jarin\n",
      "Jarin\n"
     ]
    }
   ],
   "source": [
    "class Student:\n",
    "    def __init__(self, name, id, batch, department, section):\n",
    "        self.name = name\n",
    "        self.id = id\n",
    "        self.batch = batch\n",
    "        self.department = department\n",
    "        self.section = section\n",
    "        print(self.name)\n",
    "    def full_name(self):\n",
    "        return print(self.name)\n",
    "\n",
    "anika = Student(\"Jarin\", \"123\", 1, \"CSE\", \"A\")\n",
    "\n",
    "anika.full_name()\n"
   ]
  },
  {
   "cell_type": "markdown",
   "id": "ddab055d-6a90-4978-9a15-080b8c8b8311",
   "metadata": {},
   "source": [
    "# Inheritance"
   ]
  },
  {
   "cell_type": "code",
   "execution_count": null,
   "id": "d2ac1635-ea19-4825-85c3-d1d646e9c0d2",
   "metadata": {},
   "outputs": [],
   "source": [
    "class outsiderStudent(Student):\n",
    "    def __init__(self, preUniversity):\n",
    "        super().__init__(self.name, self.id, self.batch, self.department, self.section)\n",
    "        self.preUniversity = preUniversity"
   ]
  }
 ],
 "metadata": {
  "kernelspec": {
   "display_name": "Python 3 (ipykernel)",
   "language": "python",
   "name": "python3"
  },
  "language_info": {
   "codemirror_mode": {
    "name": "ipython",
    "version": 3
   },
   "file_extension": ".py",
   "mimetype": "text/x-python",
   "name": "python",
   "nbconvert_exporter": "python",
   "pygments_lexer": "ipython3",
   "version": "3.12.7"
  }
 },
 "nbformat": 4,
 "nbformat_minor": 5
}
