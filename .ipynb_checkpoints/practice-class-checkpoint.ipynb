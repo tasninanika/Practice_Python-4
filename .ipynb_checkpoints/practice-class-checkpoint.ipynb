{
 "cells": [
  {
   "cell_type": "markdown",
   "id": "12773752-cbe1-4926-bcd3-c53c643a8c7c",
   "metadata": {},
   "source": [
    "# class - multiple types of data or a structure\n",
    "# sturcture - keyword"
   ]
  },
  {
   "cell_type": "code",
   "execution_count": 12,
   "id": "0b066fb6-7367-4968-a555-b9eea313e154",
   "metadata": {},
   "outputs": [],
   "source": [
    "class Student:\n",
    "    def __init__(self, name, id, batch, department, section):\n",
    "        self.name = name\n",
    "        self.id = id\n",
    "        self.batch = batch\n",
    "        self.department = department\n",
    "        self.section = section\n",
    "        print(self.name)\n",
    "\n",
    "anika = Student(\"Jarin\", \"123\", 1, \"CSE\", \"A\")\n",
    "\n"
   ]
  },
  {
   "cell_type": "code",
   "execution_count": null,
   "id": "5892ad0e-8a9f-41cf-88dd-3c60539c38d9",
   "metadata": {},
   "outputs": [],
   "source": []
  }
 ],
 "metadata": {
  "kernelspec": {
   "display_name": "Python 3 (ipykernel)",
   "language": "python",
   "name": "python3"
  },
  "language_info": {
   "codemirror_mode": {
    "name": "ipython",
    "version": 3
   },
   "file_extension": ".py",
   "mimetype": "text/x-python",
   "name": "python",
   "nbconvert_exporter": "python",
   "pygments_lexer": "ipython3",
   "version": "3.12.7"
  }
 },
 "nbformat": 4,
 "nbformat_minor": 5
}
