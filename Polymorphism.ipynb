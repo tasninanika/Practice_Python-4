{
 "cells": [
  {
   "cell_type": "markdown",
   "id": "3a6bc2f6-9006-4bc2-aa39-98deff38cd7b",
   "metadata": {},
   "source": [
    "# Polymorphism"
   ]
  },
  {
   "cell_type": "code",
   "execution_count": 2,
   "id": "413fdf95-d4fa-4f2c-9c17-63b59b9a5afc",
   "metadata": {},
   "outputs": [],
   "source": [
    "\n",
    "\n",
    "class cat():\n",
    "    def __init__(self, breed, age):\n",
    "        self.breed = breed\n",
    "        self.age = age\n",
    "    def bark(self):\n",
    "        print('Mew')"
   ]
  },
  {
   "cell_type": "code",
   "execution_count": 3,
   "id": "1cc895fb-f731-462b-b0a1-dd86244860ed",
   "metadata": {},
   "outputs": [
    {
     "ename": "NameError",
     "evalue": "name 'dog' is not defined",
     "output_type": "error",
     "traceback": [
      "\u001b[1;31m---------------------------------------------------------------------------\u001b[0m",
      "\u001b[1;31mNameError\u001b[0m                                 Traceback (most recent call last)",
      "Cell \u001b[1;32mIn[3], line 1\u001b[0m\n\u001b[1;32m----> 1\u001b[0m dog_1 \u001b[38;5;241m=\u001b[39m dog(\u001b[38;5;124m'\u001b[39m\u001b[38;5;124mDeshi\u001b[39m\u001b[38;5;124m'\u001b[39m, \u001b[38;5;124m'\u001b[39m\u001b[38;5;124m12\u001b[39m\u001b[38;5;124m'\u001b[39m)\n\u001b[0;32m      2\u001b[0m cat_1 \u001b[38;5;241m=\u001b[39m cat(\u001b[38;5;124m'\u001b[39m\u001b[38;5;124mPersian\u001b[39m\u001b[38;5;124m'\u001b[39m, \u001b[38;5;124m'\u001b[39m\u001b[38;5;124m6\u001b[39m\u001b[38;5;124m'\u001b[39m)\n",
      "\u001b[1;31mNameError\u001b[0m: name 'dog' is not defined"
     ]
    }
   ],
   "source": [
    "dog_1 = dog('Deshi', '12')\n",
    "cat_1 = cat('Persian', '6')"
   ]
  },
  {
   "cell_type": "code",
   "execution_count": null,
   "id": "1e750e44-7788-49e7-aa19-44632f755047",
   "metadata": {},
   "outputs": [],
   "source": [
    "dog_1.bark()"
   ]
  },
  {
   "cell_type": "code",
   "execution_count": 1,
   "id": "101f890e-7c80-4256-97e1-7186114e9eb3",
   "metadata": {},
   "outputs": [
    {
     "ename": "NameError",
     "evalue": "name 'cat' is not defined",
     "output_type": "error",
     "traceback": [
      "\u001b[1;31m---------------------------------------------------------------------------\u001b[0m",
      "\u001b[1;31mNameError\u001b[0m                                 Traceback (most recent call last)",
      "Cell \u001b[1;32mIn[1], line 1\u001b[0m\n\u001b[1;32m----> 1\u001b[0m cat\u001b[38;5;241m.\u001b[39mbark(cat_1)\n",
      "\u001b[1;31mNameError\u001b[0m: name 'cat' is not defined"
     ]
    }
   ],
   "source": [
    "cat.bark(cat_1)\n"
   ]
  },
  {
   "cell_type": "code",
   "execution_count": null,
   "id": "eedea7d4-297e-423e-a36c-85556c83423f",
   "metadata": {},
   "outputs": [],
   "source": [
    "for x in (dog_1,cat_1):\n",
    "    x.bark()\n",
    "    \n",
    "    "
   ]
  }
 ],
 "metadata": {
  "kernelspec": {
   "display_name": "Python 3 (ipykernel)",
   "language": "python",
   "name": "python3"
  },
  "language_info": {
   "codemirror_mode": {
    "name": "ipython",
    "version": 3
   },
   "file_extension": ".py",
   "mimetype": "text/x-python",
   "name": "python",
   "nbconvert_exporter": "python",
   "pygments_lexer": "ipython3",
   "version": "3.12.7"
  }
 },
 "nbformat": 4,
 "nbformat_minor": 5
}
